{
 "cells": [
  {
   "cell_type": "code",
   "execution_count": null,
   "metadata": {},
   "outputs": [],
   "source": [
    "import pandas as pd\n",
    "import urllib3\n",
    "import json\n",
    "import os\n",
    "import inflection\n",
    "\n",
    "from bs4 import BeautifulSoup\n",
    "from io import BytesIO\n",
    "from zipfile import ZipFile\n",
    "\n",
    "import sqlite3\n",
    "from sqlite3 import Error\n",
    "\n",
    "from sqlalchemy import create_engine, MetaData, Table, Column, Integer, String, DateTime, Float"
   ]
  },
  {
   "cell_type": "code",
   "execution_count": null,
   "metadata": {},
   "outputs": [],
   "source": [
    "#Com urllib3 temos que iniciar um PoolManager - aqui estou fazendo a request do site da câmara dos deputados\n",
    "\n",
    "http = urllib3.PoolManager()\n",
    "urllib3.disable_warnings(urllib3.exceptions.InsecureRequestWarning) #Mensagem chata desativada\n",
    "response = http.request('GET', 'https://dadosabertos.camara.leg.br/swagger/api.html#staticfile')"
   ]
  },
  {
   "cell_type": "code",
   "execution_count": null,
   "metadata": {},
   "outputs": [],
   "source": [
    "#Utilizando o BeautifulSoup para parsear o HTML\n",
    "\n",
    "soup = BeautifulSoup(response.data, 'html.parser')"
   ]
  },
  {
   "cell_type": "code",
   "execution_count": null,
   "metadata": {},
   "outputs": [],
   "source": [
    "#Definindo diretorios\n",
    "\n",
    "BASE_DIR = os.path.abspath('')\n",
    "DEPUTADOS_DIR = os.path.join( BASE_DIR, 'dados_deputados' )\n",
    "DATA_DIR = os.path.join( BASE_DIR, 'json_files' )\n",
    "\n",
    "try:\n",
    "    os.mkdir( DEPUTADOS_DIR )\n",
    "except:\n",
    "    pass\n",
    "\n",
    "try:\n",
    "    os.mkdir( DATA_DIR )\n",
    "except:\n",
    "    pass"
   ]
  },
  {
   "cell_type": "code",
   "execution_count": null,
   "metadata": {},
   "outputs": [],
   "source": [
    "#Definindo a funcao de extracao de json\n",
    "\n",
    "def extracao_json_zip(url, destination_dir):\n",
    "    \n",
    "    if url.endswith('.json.zip'):\n",
    "        \n",
    "        zipped_json = http.request('GET', url, preload_content=False)\n",
    "        zipfile = ZipFile(BytesIO(zipped_json.read()))\n",
    "        list_of_files = zipfile.namelist()\n",
    "        \n",
    "        for file_name in list_of_files:\n",
    "            if file_name.endswith('.json'):\n",
    "\n",
    "                zipfile.extract('{}'.format(file_name), destination_dir)\n",
    "\n",
    "#Extraindo os arquivos json dos zips\n",
    "\n",
    "for link in soup.find_all('a'):\n",
    "    url = link.get('href')\n",
    "    extracao_json_zip(url, DATA_DIR)"
   ]
  },
  {
   "cell_type": "code",
   "execution_count": null,
   "metadata": {},
   "outputs": [],
   "source": [
    "url_legislaturas = 'https://dadosabertos.camara.leg.br/api/v2/legislaturas'\n",
    "response = http.request('GET', url_legislaturas)\n",
    "\n",
    "legislaturas = json.loads(response.data)\n",
    "ids_legislaturas = [leg['id'] for leg in legislaturas['dados']]"
   ]
  },
  {
   "cell_type": "code",
   "execution_count": null,
   "metadata": {},
   "outputs": [],
   "source": [
    "#Extraindo dados de legislaturas\n",
    "\n",
    "for leg in ids_legislaturas:\n",
    "    \n",
    "    url_deputados = f'https://dadosabertos.camara.leg.br/api/v2/deputados?idLegislatura={leg}'\n",
    "\n",
    "    response = http.request('GET', url_deputados)\n",
    "    deputados = json.loads(response.data)\n",
    "    deputados = pd.DataFrame(deputados['dados'])\n",
    "    deputados.to_csv(os.path.join(DEPUTADOS_DIR,f'legislatura - {leg}.csv'), encoding='utf-8', index=False)"
   ]
  },
  {
   "cell_type": "code",
   "execution_count": null,
   "metadata": {},
   "outputs": [],
   "source": [
    "#Codigo para pegar todas as colunas e os tipos de dados\n",
    "\n",
    "columns = {}\n",
    "\n",
    "for f in os.listdir(DATA_DIR):\n",
    "    destination = os.path.join(DATA_DIR, f)\n",
    "    expenses_by_year = json.load(open(destination))\n",
    "    \n",
    "    for item in expenses_by_year['dados']:\n",
    "        for key, value in item.items():\n",
    "            if key not in columns:\n",
    "                columns[key] = set()\n",
    "            columns[key].add(type(value))"
   ]
  },
  {
   "cell_type": "code",
   "execution_count": null,
   "metadata": {},
   "outputs": [],
   "source": [
    "columns"
   ]
  },
  {
   "cell_type": "code",
   "execution_count": null,
   "metadata": {},
   "outputs": [],
   "source": [
    "#Criando uma nova DB SQLite\n",
    "\n",
    "def create_connection(db_file):\n",
    "    \"\"\" create a database connection to a SQLite database \"\"\"\n",
    "    conn = None\n",
    "    try:\n",
    "        conn = sqlite3.connect(db_file)\n",
    "        print(sqlite3.version)\n",
    "    except Error as e:\n",
    "        print(e)\n",
    "    finally:\n",
    "        if conn:                     \n",
    "            conn.close()\n",
    "\n",
    "\n",
    "if __name__ == '__main__':\n",
    "    create_connection(\"camara_federal.db\")"
   ]
  },
  {
   "cell_type": "code",
   "execution_count": null,
   "metadata": {},
   "outputs": [],
   "source": [
    "#Criando uma engine SQLAlchemy\n",
    "\n",
    "engine = create_engine('sqlite:///camara_federal.db', echo=True)\n",
    "metadata = MetaData(bind=engine)"
   ]
  },
  {
   "cell_type": "code",
   "execution_count": null,
   "metadata": {},
   "outputs": [],
   "source": [
    "table = Table('expenses', metadata,\n",
    "  Column('ano', Integer()),\n",
    "  Column('cnpj_cpf', String(255)),\n",
    "  Column('codigo_legislatura', Integer()),\n",
    "  Column('cpf', String(255)),\n",
    "  Column('data_emissao', DateTime()),\n",
    "  Column('descricao', String(255)),\n",
    "  Column('descricao_especificacao', String(255)),\n",
    "  Column('fornecedor', String(255)),\n",
    "  Column('id_deputado', Integer()),\n",
    "  Column('id_documento', Integer()),\n",
    "  Column('legislatura', Integer()),\n",
    "  Column('lote', String(255)),\n",
    "  Column('mes', Integer()),\n",
    "  Column('nome_parlamentar', String(255)),\n",
    "  Column('numero', String(255)),\n",
    "  Column('numero_carteira_parlamentar', String(255)),\n",
    "  Column('numero_deputado_id', Integer()),\n",
    "  Column('numero_especificacao_sub_cota', Integer()),\n",
    "  Column('numero_sub_cota', Integer()),\n",
    "  Column('parcela', Integer()),\n",
    "  Column('passageiro', String(255)),\n",
    "  Column('ressarcimento', String(255)),\n",
    "  Column('restituicao', String(255)),\n",
    "  Column('sigla_partido', String(255)),\n",
    "  Column('sigla_uf', String(255)),\n",
    "  Column('tipo_documento', String(255)),\n",
    "  Column('trecho', String(255)),\n",
    "  Column('url_documento', String(255)),\n",
    "  Column('valor_documento', Float()),\n",
    "  Column('valor_glosa', Float()),\n",
    "  Column('valor_liquido', Float()),\n",
    ")"
   ]
  },
  {
   "cell_type": "code",
   "execution_count": null,
   "metadata": {},
   "outputs": [],
   "source": [
    "table = Table('legislatures', metadata,\n",
    "  Column('email', String(255)),\n",
    "  Column('id', Integer()),\n",
    "  Column('id_legislatura', Integer()),\n",
    "  Column('nome', String(255)),\n",
    "  Column('sigla_partido', String(255)),\n",
    "  Column('sigla_uf', String(255)),\n",
    "  Column('uri', String(255)),\n",
    "  Column('uri_partido', String(255)),\n",
    "  Column('url_foto', String(255)),\n",
    ")"
   ]
  },
  {
   "cell_type": "code",
   "execution_count": null,
   "metadata": {},
   "outputs": [],
   "source": [
    "metadata.create_all()"
   ]
  },
  {
   "cell_type": "code",
   "execution_count": null,
   "metadata": {},
   "outputs": [],
   "source": [
    "underscore_columns = [inflection.underscore(column) for column in columns]\n",
    "\n",
    "for f in os.listdir(DATA_DIR):    \n",
    "\n",
    "    with open(os.path.join(DATA_DIR, f), \"r\") as json_file:\n",
    "        \n",
    "        #Ler cada um dos jsons\n",
    "        \n",
    "        data = json.load(json_file)\n",
    "        data = pd.DataFrame(data['dados'])\n",
    "        \n",
    "        #Transformar as colunas de cada arquivo em underscore\n",
    "        \n",
    "        data.columns = [inflection.underscore(column) for column in data.columns]\n",
    "         \n",
    "        \n",
    "        data['valor_glosa'] = data['valor_glosa'].astype(float, errors='raise')\n",
    "        data['valor_liquido'] = data['valor_liquido'].astype(float, errors='raise')\n",
    "        data['valor_documento'] = data['valor_documento'].astype(float, errors='raise')\n",
    "        data['data_emissao'] = pd.to_datetime(data['data_emissao'], errors='coerce')\n",
    "\n",
    "        data.to_sql('expenses', engine, if_exists='append', index=False, chunksize=20000)"
   ]
  },
  {
   "cell_type": "code",
   "execution_count": null,
   "metadata": {},
   "outputs": [],
   "source": [
    "#Load legislatures\n",
    "\n",
    "for f in os.listdir( DEPUTADOS_DIR ):\n",
    "    if f.endswith('.csv'):\n",
    "        data = pd.read_csv(os.path.join(DEPUTADOS_DIR, f))\n",
    "        data.columns = [inflection.underscore(column) for column in data.columns]\n",
    "        \n",
    "        #Upper para garantir que todos os nomes estejam em maiusculo\n",
    "        data['nome'] = data['nome'].str.upper()\n",
    "        data.to_sql('legislatures', engine, if_exists='append', index=False, chunksize=100)\n",
    "    "
   ]
  },
  {
   "cell_type": "code",
   "execution_count": null,
   "metadata": {},
   "outputs": [],
   "source": [
    "#Fechar a engine\n",
    "engine.dispose()"
   ]
  }
 ],
 "metadata": {
  "kernelspec": {
   "display_name": "Python 3",
   "language": "python",
   "name": "python3"
  },
  "language_info": {
   "codemirror_mode": {
    "name": "ipython",
    "version": 3
   },
   "file_extension": ".py",
   "mimetype": "text/x-python",
   "name": "python",
   "nbconvert_exporter": "python",
   "pygments_lexer": "ipython3",
   "version": "3.8.3"
  }
 },
 "nbformat": 4,
 "nbformat_minor": 2
}
